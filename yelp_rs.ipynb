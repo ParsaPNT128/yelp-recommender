{
  "cells": [
    {
      "cell_type": "markdown",
      "metadata": {
        "id": "view-in-github",
        "colab_type": "text"
      },
      "source": [
        "<a href=\"https://colab.research.google.com/github/ParsaPNT128/yelp-recommender/blob/main/yelp_rs.ipynb\" target=\"_parent\"><img src=\"https://colab.research.google.com/assets/colab-badge.svg\" alt=\"Open In Colab\"/></a>"
      ]
    },
    {
      "cell_type": "markdown",
      "metadata": {
        "id": "ppP3Rm1O9TCC"
      },
      "source": [
        "# **Yelp Recommender System**"
      ]
    },
    {
      "cell_type": "markdown",
      "metadata": {
        "id": "iH1fJGQ996HV"
      },
      "source": [
        "## **Data Collection**"
      ]
    },
    {
      "cell_type": "code",
      "execution_count": null,
      "metadata": {
        "colab": {
          "base_uri": "https://localhost:8080/"
        },
        "id": "AtfEbtJlG3dA",
        "outputId": "23923215-24ed-4419-9c1d-e49528937588"
      },
      "outputs": [
        {
          "name": "stdout",
          "output_type": "stream",
          "text": [
            "Requirement already satisfied: kaggle in /usr/local/lib/python3.10/dist-packages (1.6.14)\n",
            "Requirement already satisfied: six>=1.10 in /usr/local/lib/python3.10/dist-packages (from kaggle) (1.16.0)\n",
            "Requirement already satisfied: certifi>=2023.7.22 in /usr/local/lib/python3.10/dist-packages (from kaggle) (2024.6.2)\n",
            "Requirement already satisfied: python-dateutil in /usr/local/lib/python3.10/dist-packages (from kaggle) (2.8.2)\n",
            "Requirement already satisfied: requests in /usr/local/lib/python3.10/dist-packages (from kaggle) (2.31.0)\n",
            "Requirement already satisfied: tqdm in /usr/local/lib/python3.10/dist-packages (from kaggle) (4.66.4)\n",
            "Requirement already satisfied: python-slugify in /usr/local/lib/python3.10/dist-packages (from kaggle) (8.0.4)\n",
            "Requirement already satisfied: urllib3 in /usr/local/lib/python3.10/dist-packages (from kaggle) (2.0.7)\n",
            "Requirement already satisfied: bleach in /usr/local/lib/python3.10/dist-packages (from kaggle) (6.1.0)\n",
            "Requirement already satisfied: webencodings in /usr/local/lib/python3.10/dist-packages (from bleach->kaggle) (0.5.1)\n",
            "Requirement already satisfied: text-unidecode>=1.3 in /usr/local/lib/python3.10/dist-packages (from python-slugify->kaggle) (1.3)\n",
            "Requirement already satisfied: charset-normalizer<4,>=2 in /usr/local/lib/python3.10/dist-packages (from requests->kaggle) (3.3.2)\n",
            "Requirement already satisfied: idna<4,>=2.5 in /usr/local/lib/python3.10/dist-packages (from requests->kaggle) (3.7)\n"
          ]
        }
      ],
      "source": [
        "!pip install kaggle"
      ]
    },
    {
      "cell_type": "code",
      "execution_count": null,
      "metadata": {
        "colab": {
          "base_uri": "https://localhost:8080/"
        },
        "id": "uN1tyskCG5QQ",
        "outputId": "b13a1cff-d744-4d79-963a-ea7f7cb9b963"
      },
      "outputs": [
        {
          "name": "stdout",
          "output_type": "stream",
          "text": [
            "Dataset URL: https://www.kaggle.com/datasets/yelp-dataset/yelp-dataset\n",
            "License(s): other\n",
            "Downloading yelp-dataset.zip to /content\n",
            "100% 4.07G/4.07G [00:48<00:00, 112MB/s]\n",
            "100% 4.07G/4.07G [00:48<00:00, 90.9MB/s]\n"
          ]
        }
      ],
      "source": [
        "!kaggle datasets download -d yelp-dataset/yelp-dataset"
      ]
    },
    {
      "cell_type": "code",
      "execution_count": null,
      "metadata": {
        "colab": {
          "base_uri": "https://localhost:8080/"
        },
        "id": "aY5Zdtz7G9fC",
        "outputId": "cad5e5de-ca89-4733-8685-8a7e4df75b12"
      },
      "outputs": [
        {
          "name": "stdout",
          "output_type": "stream",
          "text": [
            "Archive:  /content/yelp-dataset.zip\n",
            "  inflating: Dataset_User_Agreement.pdf  \n",
            "  inflating: yelp_academic_dataset_business.json  \n",
            "  inflating: yelp_academic_dataset_checkin.json  \n",
            "  inflating: yelp_academic_dataset_review.json  \n",
            "  inflating: yelp_academic_dataset_tip.json  \n",
            "  inflating: yelp_academic_dataset_user.json  \n"
          ]
        }
      ],
      "source": [
        "!unzip /content/yelp-dataset.zip"
      ]
    },
    {
      "cell_type": "markdown",
      "metadata": {
        "id": "1D9NYOgj-0ja"
      },
      "source": [
        "## **Data Preparation**"
      ]
    },
    {
      "cell_type": "code",
      "execution_count": null,
      "metadata": {
        "colab": {
          "base_uri": "https://localhost:8080/"
        },
        "id": "gRLh9w8-9SB0",
        "outputId": "2705e136-8060-4b47-eb25-e4c378101489"
      },
      "outputs": [
        {
          "name": "stdout",
          "output_type": "stream",
          "text": [
            "Collecting pyspark\n",
            "  Downloading pyspark-3.5.1.tar.gz (317.0 MB)\n",
            "\u001b[2K     \u001b[90m━━━━━━━━━━━━━━━━━━━━━━━━━━━━━━━━━━━━━━━━\u001b[0m \u001b[32m317.0/317.0 MB\u001b[0m \u001b[31m1.5 MB/s\u001b[0m eta \u001b[36m0:00:00\u001b[0m\n",
            "\u001b[?25h  Preparing metadata (setup.py) ... \u001b[?25l\u001b[?25hdone\n",
            "Requirement already satisfied: py4j==0.10.9.7 in /usr/local/lib/python3.10/dist-packages (from pyspark) (0.10.9.7)\n",
            "Building wheels for collected packages: pyspark\n",
            "  Building wheel for pyspark (setup.py) ... \u001b[?25l\u001b[?25hdone\n",
            "  Created wheel for pyspark: filename=pyspark-3.5.1-py2.py3-none-any.whl size=317488491 sha256=be264620b08b639a515d36ab443e45b6006a4be3e09bc0f04eddefefcdc59302\n",
            "  Stored in directory: /root/.cache/pip/wheels/80/1d/60/2c256ed38dddce2fdd93be545214a63e02fbd8d74fb0b7f3a6\n",
            "Successfully built pyspark\n",
            "Installing collected packages: pyspark\n",
            "Successfully installed pyspark-3.5.1\n"
          ]
        }
      ],
      "source": [
        "!pip install pyspark"
      ]
    },
    {
      "cell_type": "code",
      "execution_count": null,
      "metadata": {
        "id": "6JUxWuGl9d2-"
      },
      "outputs": [],
      "source": [
        "from pyspark.ml import Pipeline\n",
        "from pyspark.sql.functions import *\n",
        "from pyspark.sql.types import *\n",
        "from pyspark.ml import Pipeline\n",
        "from pyspark.sql import SparkSession\n",
        "\n",
        "\n",
        "spark = SparkSession.builder \\\n",
        "    .appName(\"Yelp Restaurant Recommendation System\") \\\n",
        "    .getOrCreate()"
      ]
    },
    {
      "cell_type": "code",
      "execution_count": null,
      "metadata": {
        "id": "FRsezkvgIrTK"
      },
      "outputs": [],
      "source": [
        "business_df = spark.read.json(\"yelp_academic_dataset_business.json\")\n",
        "review_df = spark.read.json(\"yelp_academic_dataset_review.json\")\n",
        "user_df = spark.read.json(\"yelp_academic_dataset_user.json\")"
      ]
    },
    {
      "cell_type": "code",
      "execution_count": null,
      "metadata": {
        "colab": {
          "background_save": true
        },
        "id": "zOOk9sVI-82H",
        "outputId": "6937e638-fc6a-471d-d547-ffd18cc418b9"
      },
      "outputs": [
        {
          "name": "stdout",
          "output_type": "stream",
          "text": [
            "+--------------------+--------------------+--------------------+--------------------+-------------+--------------------+-------+----------+------------+--------------------+-----------+------------+-----+-----+\n",
            "|             address|          attributes|         business_id|          categories|         city|               hours|is_open|  latitude|   longitude|                name|postal_code|review_count|stars|state|\n",
            "+--------------------+--------------------+--------------------+--------------------+-------------+--------------------+-------+----------+------------+--------------------+-----------+------------+-----+-----+\n",
            "|1616 Chapala St, ...|{NULL, NULL, NULL...|Pns2l4eNsfO8kk83d...|Doctors, Traditio...|Santa Barbara|                NULL|      0|34.4266787|-119.7111968|Abby Rappoport, L...|      93101|           7|  5.0|   CA|\n",
            "|87 Grasso Plaza S...|{NULL, NULL, NULL...|mpf3x-BjTdTEA3yCZ...|Shipping Centers,...|       Affton|{8:0-18:30, 0:0-0...|      1| 38.551126|  -90.335695|       The UPS Store|      63123|          15|  3.0|   MO|\n",
            "|5255 E Broadway Blvd|{NULL, NULL, NULL...|tUFrWirKiKi_TAnsV...|Department Stores...|       Tucson|{8:0-23:0, 8:0-22...|      0| 32.223236| -110.880452|              Target|      85711|          22|  3.5|   AZ|\n",
            "|         935 Race St|{NULL, NULL, u'no...|MTSW4McQd7CbVtyjq...|Restaurants, Food...| Philadelphia|{7:0-21:0, 7:0-20...|      1|39.9555052| -75.1555641|  St Honore Pastries|      19107|          80|  4.0|   PA|\n",
            "|       101 Walnut St|{NULL, NULL, NULL...|mWMc6_wTdE0EUBKIG...|Brewpubs, Breweri...|   Green Lane|{12:0-22:0, NULL,...|      1|40.3381827| -75.4716585|Perkiomen Valley ...|      18054|          13|  4.5|   PA|\n",
            "+--------------------+--------------------+--------------------+--------------------+-------------+--------------------+-------+----------+------------+--------------------+-----------+------------+-----+-----+\n",
            "only showing top 5 rows\n",
            "\n",
            "+--------------------+----+-------------------+-----+--------------------+-----+--------------------+------+--------------------+\n",
            "|         business_id|cool|               date|funny|           review_id|stars|                text|useful|             user_id|\n",
            "+--------------------+----+-------------------+-----+--------------------+-----+--------------------+------+--------------------+\n",
            "|XQfwVwDr-v0ZS3_Cb...|   0|2018-07-07 22:09:11|    0|KU_O5udG6zpxOg-Vc...|  3.0|If you decide to ...|     0|mh_-eMZ6K5RLWhZyI...|\n",
            "|7ATYjTIgM3jUlt4UM...|   1|2012-01-03 15:28:18|    0|BiTunyQ73aT9WBnpR...|  5.0|I've taken a lot ...|     1|OyoGAe7OKpv6SyGZT...|\n",
            "|YjUWPpI6HXG530lwP...|   0|2014-02-05 20:30:30|    0|saUsX_uimxRlCVr67...|  3.0|Family diner. Had...|     0|8g_iMtfSiwikVnbP2...|\n",
            "|kxX2SOes4o-D3ZQBk...|   1|2015-01-04 00:01:03|    0|AqPFMleE6RsU23_au...|  5.0|Wow!  Yummy, diff...|     1|_7bHUi9Uuf5__HHc_...|\n",
            "|e4Vwtrqf-wpJfwesg...|   1|2017-01-14 20:54:15|    0|Sx8TMOWLNuJBWer-0...|  4.0|Cute interior and...|     1|bcjbaE6dDog4jkNY9...|\n",
            "+--------------------+----+-------------------+-----+--------------------+-----+--------------------+------+--------------------+\n",
            "only showing top 5 rows\n",
            "\n",
            "+-------------+---------------+---------------+----------------+--------------+---------------+---------------+---------------+-----------------+----------------+------------------+-----------------+-----+--------------------+----+--------------------+-----+------+------------+------+--------------------+-------------------+\n",
            "|average_stars|compliment_cool|compliment_cute|compliment_funny|compliment_hot|compliment_list|compliment_more|compliment_note|compliment_photos|compliment_plain|compliment_profile|compliment_writer| cool|               elite|fans|             friends|funny|  name|review_count|useful|             user_id|      yelping_since|\n",
            "+-------------+---------------+---------------+----------------+--------------+---------------+---------------+---------------+-----------------+----------------+------------------+-----------------+-----+--------------------+----+--------------------+-----+------+------------+------+--------------------+-------------------+\n",
            "|         3.91|            467|             56|             467|           250|             18|             65|            232|              180|             844|                55|              239| 5994|                2007| 267|NSCy54eWehBJyZdG2...| 1259|Walker|         585|  7217|qVc8ODYU5SZjKXVBg...|2007-01-25 16:47:26|\n",
            "|         3.74|           3131|            157|            3131|          1145|            251|            264|           1847|             1946|            7054|               184|             1521|27281|2009,2010,2011,20...|3138|ueRPE0CX75ePGMqOF...|13066|Daniel|        4333| 43091|j14WgRoU_-2ZE1aw1...|2009-01-25 04:35:42|\n",
            "|         3.32|            119|             17|             119|            89|              3|             13|             66|               18|              96|                10|               35| 1003|2009,2010,2011,20...|  52|LuO3Bn4f3rlhyHIaN...| 1010| Steph|         665|  2086|2WnXYQFK0hXEoTxPt...|2008-07-25 10:41:00|\n",
            "|         4.27|             26|              6|              26|            24|              2|              4|             12|                9|              16|                 1|               10|  299|      2009,2010,2011|  28|enx1vVPnfdNUdPho6...|  330|  Gwen|         224|   512|SZDeASXq7o05mMNLs...|2005-11-29 04:38:33|\n",
            "|         3.54|              0|              0|               0|             1|              0|              1|              1|                0|               1|                 0|                0|    7|                    |   1|PBK4q9KEEBHhFvSXC...|   15| Karen|          79|    29|hA5lMy-EnncsH4JoR...|2007-01-05 19:40:59|\n",
            "+-------------+---------------+---------------+----------------+--------------+---------------+---------------+---------------+-----------------+----------------+------------------+-----------------+-----+--------------------+----+--------------------+-----+------+------------+------+--------------------+-------------------+\n",
            "only showing top 5 rows\n",
            "\n"
          ]
        }
      ],
      "source": [
        "business_df.show(5)\n",
        "review_df.show(5)\n",
        "user_df.show(5)"
      ]
    },
    {
      "cell_type": "markdown",
      "metadata": {
        "id": "HcRUSLEbCb-x"
      },
      "source": [
        "**Selecting Columns**"
      ]
    },
    {
      "cell_type": "code",
      "execution_count": null,
      "metadata": {
        "id": "ro6-pdpUAPIa"
      },
      "outputs": [],
      "source": [
        "business_cols = ['business_id', 'name', 'categories', 'city', 'latitude', 'longitude', 'is_open']\n",
        "review_cols = ['review_id', 'user_id', 'business_id', 'stars', 'text']\n",
        "user_cols = ['user_id', 'review_count']"
      ]
    },
    {
      "cell_type": "code",
      "execution_count": null,
      "metadata": {
        "id": "8sP8xLzKCGCZ"
      },
      "outputs": [],
      "source": [
        "business_df = business_df.select(business_cols)\n",
        "review_df = review_df.select(review_cols)\n",
        "user_df = user_df.select(user_cols)"
      ]
    },
    {
      "cell_type": "markdown",
      "metadata": {
        "id": "vm_YKaaJCXam"
      },
      "source": [
        "**Filtering**"
      ]
    },
    {
      "cell_type": "code",
      "execution_count": null,
      "metadata": {
        "id": "FY27LMjnCS1p"
      },
      "outputs": [],
      "source": [
        "from pyspark.sql.functions import col\n",
        "\n",
        "business_df = business_df.filter(business_df[\"is_open\"] == 1)"
      ]
    },
    {
      "cell_type": "markdown",
      "metadata": {
        "id": "acCBoJy0E0dj"
      },
      "source": [
        "**Dropping Columns**"
      ]
    },
    {
      "cell_type": "code",
      "execution_count": null,
      "metadata": {
        "id": "vCOvNHWlE2oK"
      },
      "outputs": [],
      "source": [
        "business_df = business_df.drop(\"is_open\")"
      ]
    },
    {
      "cell_type": "code",
      "execution_count": null,
      "metadata": {
        "id": "olrG9EMuE_ix"
      },
      "outputs": [],
      "source": [
        "business_df = business_df.dropna()\n",
        "review_df = review_df.dropna()\n",
        "user_df = user_df.dropna()"
      ]
    },
    {
      "cell_type": "markdown",
      "metadata": {
        "id": "g3KEqUvqtbUY"
      },
      "source": [
        "**Adding New ID**"
      ]
    },
    {
      "cell_type": "code",
      "execution_count": null,
      "metadata": {
        "id": "rqy3E8_HiSY4"
      },
      "outputs": [],
      "source": [
        "business_newid_df = spark.createDataFrame(business_df.rdd.map(lambda x: x[0]).zipWithIndex(), \\\n",
        "        StructType([StructField(\"business_id\", StringType(), True),StructField(\"businessId\", IntegerType(), True)]))\n",
        "\n",
        "a = business_df.alias(\"a\")\n",
        "b = business_newid_df.alias(\"b\")\n",
        "\n",
        "business_new_df = a.join(b, col(\"a.business_id\") == col(\"b.business_id\"), 'inner') \\\n",
        "             .select([col('a.'+xx) for xx in a.columns] + [col('b.businessId')])\n",
        "\n",
        "business_new_df.select('businessId','business_id', 'name', 'categories', 'city', 'latitude', 'longitude', 'is_open').show()"
      ]
    },
    {
      "cell_type": "code",
      "execution_count": null,
      "metadata": {
        "id": "5Q2zXfaZs6Fs"
      },
      "outputs": [],
      "source": [
        "user_newid_df = spark.createDataFrame(user_df.rdd.map(lambda x: x[0]).zipWithIndex(), \\\n",
        "        StructType([StructField(\"user_id\", StringType(), True),StructField(\"userId\", IntegerType(), True)]))\n",
        "\n",
        "a = user_df.alias(\"a\")\n",
        "b = user_newid_df.alias(\"b\")\n",
        "\n",
        "user_new_df = a.join(b, col(\"a.user_id\") == col(\"b.user_id\"), 'inner') \\\n",
        "             .select([col('a.'+xx) for xx in a.columns] + [col('b.userId')])\n",
        "\n",
        "user_new_df.select('userId','user_id', 'name').show()"
      ]
    },
    {
      "cell_type": "code",
      "execution_count": null,
      "metadata": {
        "id": "wy-NO6QItDAc"
      },
      "outputs": [],
      "source": [
        "new_review_df = review_df.select('user_id', 'business_id', 'stars', 'text')\n",
        "\n",
        "a = new_review_df.alias(\"a\")\n",
        "b = user_newid_df.alias(\"b\")\n",
        "\n",
        "review_userId_df = a.join(b, col(\"a.user_id\") == col(\"b.user_id\"), 'inner') \\\n",
        "                     .select([col('a.'+xx) for xx in a.columns] + [col('b.userId')])\n",
        "\n",
        "a = review_userId_df.alias(\"a\")\n",
        "b = business_newid_df.alias(\"b\")\n",
        "\n",
        "review_userId_businessId_df = a.join(b, col(\"a.business_id\") == col(\"b.business_id\"), 'inner') \\\n",
        "                         .select([col('a.'+xx) for xx in a.columns] + [col('b.businessId')])\n",
        "\n",
        "review_userId_businessId_df.show()"
      ]
    },
    {
      "cell_type": "markdown",
      "metadata": {
        "id": "xDrcLf6OMAR8"
      },
      "source": [
        "## **Data Exploration**"
      ]
    },
    {
      "cell_type": "code",
      "execution_count": null,
      "metadata": {
        "id": "JKHU6YtsMFuL"
      },
      "outputs": [],
      "source": [
        "business_df.printSchema()\n",
        "review_df.printSchema()\n",
        "user_df.printSchema()"
      ]
    },
    {
      "cell_type": "code",
      "execution_count": null,
      "metadata": {
        "colab": {
          "background_save": true
        },
        "id": "EUaUWlajNAsM",
        "outputId": "f39eec3b-b167-4774-f438-4c56399d572a"
      },
      "outputs": [
        {
          "name": "stdout",
          "output_type": "stream",
          "text": [
            "+-------+--------------------+--------------------+--------------------+-----------+------------------+------------------+\n",
            "|summary|         business_id|                name|          categories|       city|          latitude|         longitude|\n",
            "+-------+--------------------+--------------------+--------------------+-----------+------------------+------------------+\n",
            "|  count|              119603|              119603|              119603|     119603|            119603|            119603|\n",
            "|   mean|                NULL|  1328.6666666666667|                NULL|       NULL|36.621838060656984|-89.46646264373256|\n",
            "| stddev|                NULL|   851.4687702239388|                NULL|       NULL| 5.884550067556388|14.972558394818144|\n",
            "|    min|---kPU91CF4Lq2-Wl...|        Grow Academy|3D Printing, Loca...|AB Edmonton|         27.555127|       -120.095137|\n",
            "|    max|zzw66H6hVjXQEt0Js...|​Silent Stay Medi...|Zoos, Tours, Arts...|    ​Lithia|        53.6791969|    -73.2004570502|\n",
            "+-------+--------------------+--------------------+--------------------+-----------+------------------+------------------+\n",
            "\n",
            "+-------+--------------------+--------------------+--------------------+------------------+----------------------+\n",
            "|summary|           review_id|             user_id|         business_id|             stars|                  text|\n",
            "+-------+--------------------+--------------------+--------------------+------------------+----------------------+\n",
            "|  count|             6990280|             6990280|             6990280|           6990280|               6990280|\n",
            "|   mean|                NULL|                NULL|                NULL|  3.74858374771826|                  NULL|\n",
            "| stddev|                NULL|                NULL|                NULL|1.4787045052556855|                  NULL|\n",
            "|    min|---4VcQZzy_vIIifU...|---1lKK3aKOuomHnw...|---kPU91CF4Lq2-Wl...|               1.0|  !\\nMilk Bar is po...|\n",
            "|    max|zzzz1ADBqBEVyfX4l...|zzzUFM4HFe0SFG0bP...|zzyx5x0Z7xXWWvWnZ...|               5.0|＼(^o^)／\\nThey hav...|\n",
            "+-------+--------------------+--------------------+--------------------+------------------+----------------------+\n",
            "\n",
            "+-------+--------------------+------------------+\n",
            "|summary|             user_id|      review_count|\n",
            "+-------+--------------------+------------------+\n",
            "|  count|             1987897|           1987897|\n",
            "|   mean|                NULL|23.394409267683386|\n",
            "| stddev|                NULL| 82.56699161797889|\n",
            "|    min|---1lKK3aKOuomHnw...|                 0|\n",
            "|    max|zzzUFM4HFe0SFG0bP...|             17473|\n",
            "+-------+--------------------+------------------+\n",
            "\n"
          ]
        }
      ],
      "source": [
        "business_df.describe().show()\n",
        "review_df.describe().show()\n",
        "user_df.describe().show()"
      ]
    },
    {
      "cell_type": "code",
      "execution_count": null,
      "metadata": {
        "colab": {
          "background_save": true
        },
        "id": "x3cF6FXEtPuq",
        "outputId": "1c1b71cc-7c21-428c-c66a-e6d772ab2c6d"
      },
      "outputs": [
        {
          "name": "stdout",
          "output_type": "stream",
          "text": [
            "+--------------------+-----+\n",
            "|            category|count|\n",
            "+--------------------+-----+\n",
            "|         Restaurants|34987|\n",
            "|                Food|20419|\n",
            "|            Shopping|20186|\n",
            "|       Home Services|13322|\n",
            "|       Beauty & Spas|12263|\n",
            "|    Health & Medical|11046|\n",
            "|      Local Services|10138|\n",
            "|          Automotive| 9879|\n",
            "|           Nightlife| 8379|\n",
            "|Event Planning & ...| 8173|\n",
            "|                Bars| 7528|\n",
            "|         Active Life| 6496|\n",
            "|          Sandwiches| 6075|\n",
            "|American (Traditi...| 5531|\n",
            "|           Fast Food| 5516|\n",
            "|     Hotels & Travel| 5123|\n",
            "|               Pizza| 5090|\n",
            "|       Home & Garden| 5022|\n",
            "|         Auto Repair| 5003|\n",
            "|        Coffee & Tea| 4954|\n",
            "+--------------------+-----+\n",
            "only showing top 20 rows\n",
            "\n"
          ]
        }
      ],
      "source": [
        "from pyspark.sql.functions import explode, split, col\n",
        "\n",
        "business_exploded = business_new_df.withColumn(\"category\", explode(split(\"categories\", \",\\s*\")))\n",
        "category_counts = business_exploded.groupBy(\"category\").count().orderBy(col(\"count\").desc())\n",
        "\n",
        "category_counts.show()"
      ]
    },
    {
      "cell_type": "code",
      "execution_count": null,
      "metadata": {
        "colab": {
          "background_save": true
        },
        "id": "47g7jrAiANZ1",
        "outputId": "afd04f27-fae1-4750-8aba-3864ae386415"
      },
      "outputs": [
        {
          "name": "stdout",
          "output_type": "stream",
          "text": [
            "+--------------------+-----+\n",
            "|         business_id|count|\n",
            "+--------------------+-----+\n",
            "|_ab50qdWOk0DdB6XO...| 7673|\n",
            "|ac1AeYqs8Z4_e2X5M...| 7516|\n",
            "|GXFMD0Z4jEVZBCsbP...| 6160|\n",
            "|ytynqOUb3hjKeJfRj...| 5778|\n",
            "|oBNrLz4EDhiscSlbO...| 5264|\n",
            "|iSRTaT9WngzB8JJ2Y...| 5254|\n",
            "|VQcCL9PiNL_wkGf-u...| 5146|\n",
            "|_C7QiQQc47AOEv4PE...| 4969|\n",
            "|GBTPC53ZrG1ZBY3DT...| 4661|\n",
            "|6a4gLLFSgr-Q6CZXD...| 4480|\n",
            "|PP3BBaVxZLcJU54uP...| 4293|\n",
            "|1b5mnK8bMnnju_cvU...| 4247|\n",
            "|I_3LMZ_1m2mzR0oLI...| 4093|\n",
            "|VaO-VW3e1kARkU9bP...| 4034|\n",
            "|qb28j-FNX1_6xm7u3...| 3971|\n",
            "|gTC8IQ_i8zXytWSly...| 3917|\n",
            "|yPSejq3_erxo9zdVY...| 3889|\n",
            "|wz8ZPfySQczcPgSyd...| 3634|\n",
            "|VVH6k9-ycttH3TV_l...| 3633|\n",
            "|IkY2ticzHEn4QFn8h...| 3428|\n",
            "+--------------------+-----+\n",
            "only showing top 20 rows\n",
            "\n"
          ]
        }
      ],
      "source": [
        "reviews_per_business = review_df.groupBy(\"business_id\").count().orderBy(col(\"count\").desc())\n",
        "\n",
        "reviews_per_business.show()"
      ]
    },
    {
      "cell_type": "code",
      "execution_count": null,
      "metadata": {
        "colab": {
          "background_save": true
        },
        "id": "SZcjRITL5-Z4",
        "outputId": "d6c09fed-f00a-4e0a-f54f-5fed4a195cbc"
      },
      "outputs": [
        {
          "name": "stdout",
          "output_type": "stream",
          "text": [
            "+-------------+-----------------+\n",
            "|         city|Number Of Reviews|\n",
            "+-------------+-----------------+\n",
            "| Philadelphia|           744065|\n",
            "|  New Orleans|           536726|\n",
            "|        Tampa|           380084|\n",
            "|    Nashville|           377372|\n",
            "|       Tucson|           341433|\n",
            "|         Reno|           295454|\n",
            "| Indianapolis|           291535|\n",
            "|Santa Barbara|           224006|\n",
            "|  Saint Louis|           196382|\n",
            "|        Boise|            93314|\n",
            "+-------------+-----------------+\n",
            "only showing top 10 rows\n",
            "\n"
          ]
        }
      ],
      "source": [
        "reviews_businesses = review_df.join(business_df, \"business_id\", how=\"inner\")\n",
        "most_reviewed_cities = reviews_businesses.groupBy(\"city\").count().orderBy(col(\"count\").desc())\n",
        "most_reviewed_cities = most_reviewed_cities.withColumnRenamed(\"count\", \"Number Of Reviews\")\n",
        "\n",
        "most_reviewed_cities.show(10)"
      ]
    },
    {
      "cell_type": "markdown",
      "metadata": {
        "id": "3bo_G1Tj54-U"
      },
      "source": [
        "**Top 20 Cities With The Most Businesses**"
      ]
    },
    {
      "cell_type": "code",
      "execution_count": null,
      "metadata": {
        "colab": {
          "background_save": true
        },
        "id": "vK-J2qk9zXBq",
        "outputId": "45dc428c-ba7b-4616-e8de-8922cb671181"
      },
      "outputs": [
        {
          "name": "stdout",
          "output_type": "stream",
          "text": [
            "Requirement already satisfied: matplotlib in /usr/local/lib/python3.10/dist-packages (3.7.1)\n",
            "Requirement already satisfied: contourpy>=1.0.1 in /usr/local/lib/python3.10/dist-packages (from matplotlib) (1.2.1)\n",
            "Requirement already satisfied: cycler>=0.10 in /usr/local/lib/python3.10/dist-packages (from matplotlib) (0.12.1)\n",
            "Requirement already satisfied: fonttools>=4.22.0 in /usr/local/lib/python3.10/dist-packages (from matplotlib) (4.53.0)\n",
            "Requirement already satisfied: kiwisolver>=1.0.1 in /usr/local/lib/python3.10/dist-packages (from matplotlib) (1.4.5)\n",
            "Requirement already satisfied: numpy>=1.20 in /usr/local/lib/python3.10/dist-packages (from matplotlib) (1.25.2)\n",
            "Requirement already satisfied: packaging>=20.0 in /usr/local/lib/python3.10/dist-packages (from matplotlib) (24.1)\n",
            "Requirement already satisfied: pillow>=6.2.0 in /usr/local/lib/python3.10/dist-packages (from matplotlib) (9.4.0)\n",
            "Requirement already satisfied: pyparsing>=2.3.1 in /usr/local/lib/python3.10/dist-packages (from matplotlib) (3.1.2)\n",
            "Requirement already satisfied: python-dateutil>=2.7 in /usr/local/lib/python3.10/dist-packages (from matplotlib) (2.8.2)\n",
            "Requirement already satisfied: six>=1.5 in /usr/local/lib/python3.10/dist-packages (from python-dateutil>=2.7->matplotlib) (1.16.0)\n"
          ]
        }
      ],
      "source": [
        "!pip install matplotlib"
      ]
    },
    {
      "cell_type": "code",
      "execution_count": null,
      "metadata": {
        "colab": {
          "background_save": true
        },
        "id": "yKvV7AD1xX-e"
      },
      "outputs": [],
      "source": [
        "import matplotlib.pyplot as plt\n",
        "import seaborn as sns\n",
        "import pandas as pd"
      ]
    },
    {
      "cell_type": "code",
      "execution_count": null,
      "metadata": {
        "colab": {
          "background_save": true
        },
        "id": "T0-V5DN_xNpn",
        "outputId": "33aec160-0dc7-4194-adce-6cf9200c295d"
      },
      "outputs": [
        {
          "data": {
            "image/png": "[encoded data removed]",
            "text/plain": [
              "<Figure size 1000x800 with 1 Axes>"
            ]
          },
          "metadata": {},
          "output_type": "display_data"
        }
      ],
      "source": [
        "from pyspark.sql.functions import col\n",
        "\n",
        "most_businesses_cities = business_df.groupBy(\"city\").count().orderBy(col(\"count\").desc())\n",
        "top_20_cities = most_businesses_cities.limit(20)\n",
        "top_20_cities_pd = top_20_cities.toPandas()\n",
        "\n",
        "plt.figure(figsize=(10, 8))\n",
        "sns.barplot(x=\"count\", y=\"city\", data=top_20_cities_pd)\n",
        "plt.title(\"Top 20 Cities With The Most Businesses\")\n",
        "plt.xlabel(\"Number of Businesses\")\n",
        "plt.ylabel(\"Cities\")\n",
        "plt.tight_layout()\n",
        "plt.show()"
      ]
    },
    {
      "cell_type": "markdown",
      "metadata": {
        "id": "LBklu00pxbxp"
      },
      "source": [
        "**Reviews Word Cloud**"
      ]
    },
    {
      "cell_type": "code",
      "execution_count": null,
      "metadata": {
        "colab": {
          "background_save": true
        },
        "id": "Q7Twg9IyzT5c",
        "outputId": "a3476228-8dd6-41c1-b820-8e8c7100576c"
      },
      "outputs": [
        {
          "name": "stdout",
          "output_type": "stream",
          "text": [
            "Requirement already satisfied: wordcloud in /usr/local/lib/python3.10/dist-packages (1.9.3)\n",
            "Requirement already satisfied: numpy>=1.6.1 in /usr/local/lib/python3.10/dist-packages (from wordcloud) (1.25.2)\n",
            "Requirement already satisfied: pillow in /usr/local/lib/python3.10/dist-packages (from wordcloud) (9.4.0)\n",
            "Requirement already satisfied: matplotlib in /usr/local/lib/python3.10/dist-packages (from wordcloud) (3.7.1)\n",
            "Requirement already satisfied: contourpy>=1.0.1 in /usr/local/lib/python3.10/dist-packages (from matplotlib->wordcloud) (1.2.1)\n",
            "Requirement already satisfied: cycler>=0.10 in /usr/local/lib/python3.10/dist-packages (from matplotlib->wordcloud) (0.12.1)\n",
            "Requirement already satisfied: fonttools>=4.22.0 in /usr/local/lib/python3.10/dist-packages (from matplotlib->wordcloud) (4.53.0)\n",
            "Requirement already satisfied: kiwisolver>=1.0.1 in /usr/local/lib/python3.10/dist-packages (from matplotlib->wordcloud) (1.4.5)\n",
            "Requirement already satisfied: packaging>=20.0 in /usr/local/lib/python3.10/dist-packages (from matplotlib->wordcloud) (24.1)\n",
            "Requirement already satisfied: pyparsing>=2.3.1 in /usr/local/lib/python3.10/dist-packages (from matplotlib->wordcloud) (3.1.2)\n",
            "Requirement already satisfied: python-dateutil>=2.7 in /usr/local/lib/python3.10/dist-packages (from matplotlib->wordcloud) (2.8.2)\n",
            "Requirement already satisfied: six>=1.5 in /usr/local/lib/python3.10/dist-packages (from python-dateutil>=2.7->matplotlib->wordcloud) (1.16.0)\n"
          ]
        }
      ],
      "source": [
        "!pip install wordcloud"
      ]
    },
    {
      "cell_type": "code",
      "execution_count": null,
      "metadata": {
        "id": "vBvBCVNtO77x"
      },
      "outputs": [],
      "source": [
        "from wordcloud import WordCloud, STOPWORDS\n",
        "from pyspark.sql.functions import col\n",
        "\n",
        "def create_wordcloud(df):\n",
        "  review_list = df.select('text').toPandas()['text'].tolist()\n",
        "  all_review = ''.join(review_list)\n",
        "\n",
        "  wordcloud = WordCloud(width = 800, height = 800,\n",
        "                background_color ='white',\n",
        "                stopwords = STOPWORDS,\n",
        "                min_font_size = 10).generate(all_review)\n",
        "\n",
        "  plt.imshow(wordcloud)\n",
        "  plt.axis(\"off\")\n",
        "  plt.show()\n",
        "\n",
        "business = input(\"Enter the business name: \")\n",
        "business_data = business_df.filter(business_df[\"name\"] == business)\n",
        "\n",
        "if business_data.count():\n",
        "  review_data = business_data.join(review_df, on=\"business_id\", how=\"inner\")\n",
        "\n",
        "  if b.count():\n",
        "    create_wordcloud(review_data)\n",
        "\n",
        "  else:\n",
        "    print(\"No reviews found.\")\n",
        "\n",
        "else:\n",
        "  print(\"Business not found.\")"
      ]
    }
  ],
  "metadata": {
    "colab": {
      "provenance": [],
      "include_colab_link": true
    },
    "kernelspec": {
      "display_name": "Python 3",
      "name": "python3"
    },
    "language_info": {
      "name": "python"
    }
  },
  "nbformat": 4,
  "nbformat_minor": 0
}